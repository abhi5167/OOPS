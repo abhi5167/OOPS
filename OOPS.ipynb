{
  "nbformat": 4,
  "nbformat_minor": 0,
  "metadata": {
    "colab": {
      "provenance": []
    },
    "kernelspec": {
      "name": "python3",
      "display_name": "Python 3"
    },
    "language_info": {
      "name": "python"
    }
  },
  "cells": [
    {
      "cell_type": "markdown",
      "source": [
        "**# Theory Questions #**\n",
        "\n",
        "\n",
        "\n",
        "\n",
        "\n"
      ],
      "metadata": {
        "id": "J1cbvC94xtEb"
      }
    },
    {
      "cell_type": "markdown",
      "source": [
        "**Q.1 What is Object-Oriented Programming (OOP)?**\n",
        "\n",
        "  => OOP is a programming paradigm based on the concept of objects, which encapsulate data (attributes) and behavior (methods). It enables modularity, code reuse, and better organization through four main principles: Encapsulation, Abstraction, Inheritance, and Polymorphism."
      ],
      "metadata": {
        "id": "Ge4UGn2_4iY9"
      }
    },
    {
      "cell_type": "markdown",
      "source": [
        "**Q.2 What is a class in OOP?**\n",
        "\n",
        "  => A class is a blueprint or template for creating objects. It defines properties (attributes) and behaviors (methods) that objects of that class will have."
      ],
      "metadata": {
        "id": "zad8ASZL5F9F"
      }
    },
    {
      "cell_type": "code",
      "source": [
        "class Car:\n",
        "    def __init__(self, brand, model):\n",
        "        self.brand = brand\n",
        "        self.model = model\n"
      ],
      "metadata": {
        "id": "5I4lXM-05RgG"
      },
      "execution_count": null,
      "outputs": []
    },
    {
      "cell_type": "markdown",
      "source": [
        "**Q.3. What is an object in OOP?**\n",
        "\n",
        "  => An object is an instance of a class. It holds real values for the attributes defined in the class."
      ],
      "metadata": {
        "id": "gdHlmyJT5UKm"
      }
    },
    {
      "cell_type": "code",
      "source": [
        "car1 = Car(\"Toyota\", \"Corolla\")  # Object of class Car\n"
      ],
      "metadata": {
        "id": "Iwf3VC-d5fx2"
      },
      "execution_count": null,
      "outputs": []
    },
    {
      "cell_type": "markdown",
      "source": [
        "**Q.4. What is the difference between abstraction and encapsulation?**\n",
        "\n",
        "  =>\n",
        "  \n",
        "  **Abstraction** hides the internal details and shows only the necessary features. (e.g., using a start() method instead of handling engine operations manually).\n",
        "\n",
        "**Encapsulation** bundles data and methods into a single unit and restricts direct access to some parts. (e.g., using private variables in a class)."
      ],
      "metadata": {
        "id": "ZfD9UGUd5iYW"
      }
    },
    {
      "cell_type": "markdown",
      "source": [
        "**Q.5. What are dunder methods in Python?**\n",
        "\n",
        "  => Dunder (double underscore) methods, like __init__ and __str__, are special methods that define behaviors for objects."
      ],
      "metadata": {
        "id": "R1yZ01-952Tt"
      }
    },
    {
      "cell_type": "code",
      "source": [
        "class Sample:\n",
        "    def __init__(self, name):\n",
        "        self.name = name\n",
        "\n",
        "    def __str__(self):\n",
        "        return f\"Sample object: {self.name}\"\n"
      ],
      "metadata": {
        "id": "7YQeFWXx5-FX"
      },
      "execution_count": null,
      "outputs": []
    },
    {
      "cell_type": "markdown",
      "source": [
        "**Q.6. Explain the concept of inheritance in OOP.**\n",
        "\n",
        "  => Inheritance allows one class (child) to inherit the properties and methods of another class (parent), promoting code reuse.\n",
        "\n"
      ],
      "metadata": {
        "id": "dTU61LbZ6Cl9"
      }
    },
    {
      "cell_type": "code",
      "source": [
        "class Animal:\n",
        "    def sound(self):\n",
        "        return \"Some sound\"\n",
        "\n",
        "class Dog(Animal):\n",
        "    def sound(self):\n",
        "        return \"Bark\"\n"
      ],
      "metadata": {
        "id": "zSoRh3D76lDV"
      },
      "execution_count": null,
      "outputs": []
    },
    {
      "cell_type": "markdown",
      "source": [
        "**Q.7. What is polymorphism in OOP?**\n",
        "\n",
        "  => Polymorphism allows different classes to be treated as instances of the same class through a common interface."
      ],
      "metadata": {
        "id": "NH9G-N4Y6p3d"
      }
    },
    {
      "cell_type": "code",
      "source": [
        "class Cat:\n",
        "    def sound(self):\n",
        "        return \"Meow\"\n",
        "\n",
        "animals = [Dog(), Cat()]\n",
        "for animal in animals:\n",
        "    print(animal.sound())  # Bark, Meow\n"
      ],
      "metadata": {
        "colab": {
          "base_uri": "https://localhost:8080/"
        },
        "id": "U0m8tJp_6zl9",
        "outputId": "4b1a0a18-d55e-43ae-c954-113482bfb051"
      },
      "execution_count": null,
      "outputs": [
        {
          "output_type": "stream",
          "name": "stdout",
          "text": [
            "Bark\n",
            "Meow\n"
          ]
        }
      ]
    },
    {
      "cell_type": "markdown",
      "source": [
        "**Q.8. How is encapsulation achieved in Python?**\n",
        "\n",
        "  => Encapsulation is achieved using private (__), protected (_), and public variables."
      ],
      "metadata": {
        "id": "VJWAYbt66tFu"
      }
    },
    {
      "cell_type": "code",
      "source": [
        "class Example:\n",
        "    def __init__(self):\n",
        "        self.public = \"Public\"\n",
        "        self._protected = \"Protected\"\n",
        "        self.__private = \"Private\"\n"
      ],
      "metadata": {
        "id": "hhfb_mGE7A9m"
      },
      "execution_count": null,
      "outputs": []
    },
    {
      "cell_type": "markdown",
      "source": [
        "**Q.9. What is a constructor in Python?**\n",
        "\n",
        "  => A constructor is the __init__() method, which is automatically called when an object is created."
      ],
      "metadata": {
        "id": "7GJMVNf58JdV"
      }
    },
    {
      "cell_type": "code",
      "source": [
        "class Example:\n",
        "    def __init__(self, value):\n",
        "        self.value = value\n"
      ],
      "metadata": {
        "id": "hq35HcDe8Qrt"
      },
      "execution_count": null,
      "outputs": []
    },
    {
      "cell_type": "markdown",
      "source": [
        "**10. What are class and static methods in Python?**\n",
        "\n",
        "  =>\n",
        "\n",
        "**Class methods** (@classmethod) work with the class rather than an instance.\n",
        "\n",
        "**Static methods** (@staticmethod) do not access class or instance variables.\n",
        "\n"
      ],
      "metadata": {
        "id": "5LbZCo2U8TK9"
      }
    },
    {
      "cell_type": "code",
      "source": [
        "class Demo:\n",
        "    class_var = \"Hello\"\n",
        "\n",
        "    @classmethod\n",
        "    def class_method(cls):\n",
        "        return cls.class_var\n",
        "\n",
        "    @staticmethod\n",
        "    def static_method():\n",
        "        return \"Static Method\"\n"
      ],
      "metadata": {
        "id": "n-X4wnI38qQl"
      },
      "execution_count": null,
      "outputs": []
    },
    {
      "cell_type": "markdown",
      "source": [
        "**Q.11. What is method overloading in Python?**\n",
        "\n",
        "  => Python does not support traditional method overloading, but you can achieve similar behavior using default parameters or variable-length arguments (*args)."
      ],
      "metadata": {
        "id": "_elRTNs08tq9"
      }
    },
    {
      "cell_type": "code",
      "source": [
        "class Example:\n",
        "    def add(self, a, b, c=None):\n",
        "        return a + b if c is None else a + b + c\n"
      ],
      "metadata": {
        "id": "ISyt-q_885RW"
      },
      "execution_count": null,
      "outputs": []
    },
    {
      "cell_type": "markdown",
      "source": [
        "**Q.12. What is method overriding in OOP?**\n",
        "\n",
        "  => Method overriding allows a subclass to modify a method from its parent class."
      ],
      "metadata": {
        "id": "gWg5kR9F87Ud"
      }
    },
    {
      "cell_type": "code",
      "source": [
        "class Parent:\n",
        "    def show(self):\n",
        "        return \"Parent\"\n",
        "\n",
        "class Child(Parent):\n",
        "    def show(self):\n",
        "        return \"Child\"\n"
      ],
      "metadata": {
        "id": "N4ibfQBv9DYN"
      },
      "execution_count": null,
      "outputs": []
    },
    {
      "cell_type": "markdown",
      "source": [
        "**Q.13. What is a property decorator in Python?**\n",
        "\n",
        "  => The @property decorator allows a method to be accessed like an attribute."
      ],
      "metadata": {
        "id": "QKMfQTwv9Fz1"
      }
    },
    {
      "cell_type": "code",
      "source": [
        "class Example:\n",
        "    def __init__(self, value):\n",
        "        self._value = value\n",
        "\n",
        "    @property\n",
        "    def value(self):\n",
        "        return self._value\n"
      ],
      "metadata": {
        "id": "7Jk0y0b29No3"
      },
      "execution_count": null,
      "outputs": []
    },
    {
      "cell_type": "markdown",
      "source": [
        "**Q.14. Why is polymorphism important in OOP?**\n",
        "\n",
        "  => Polymorphism increases flexibility and code reusability by allowing different objects to be treated through a common interface."
      ],
      "metadata": {
        "id": "KUJz68fW9QHF"
      }
    },
    {
      "cell_type": "markdown",
      "source": [
        "**Q.15. What is an abstract class in Python?**\n",
        "\n",
        "  => An abstract class contains at least one abstract method (defined but not implemented)."
      ],
      "metadata": {
        "id": "LYKfV4Nt9tyd"
      }
    },
    {
      "cell_type": "code",
      "source": [
        "from abc import ABC, abstractmethod\n",
        "\n",
        "class Shape(ABC):\n",
        "    @abstractmethod\n",
        "    def area(self):\n",
        "        pass\n"
      ],
      "metadata": {
        "id": "9gv5rSmA9zqX"
      },
      "execution_count": null,
      "outputs": []
    },
    {
      "cell_type": "markdown",
      "source": [
        "**Q.16. What are the advantages of OOP?**\n",
        "\n",
        "  =>\n",
        "  \n",
        "  **Code reusability**\n",
        "  \n",
        "  **Modularity**\n",
        "  \n",
        "  **Scalability**\n",
        "  \n",
        "  **Easier maintenance**"
      ],
      "metadata": {
        "id": "ak1-RPUN954n"
      }
    },
    {
      "cell_type": "markdown",
      "source": [
        "**Q.17. What is the difference between a class variable and an instance variable?**\n",
        "\n",
        "  =>\n",
        "  \n",
        "  Class variables are shared across all instances (static).\n",
        "\n",
        "  Instance variables are unique to each object."
      ],
      "metadata": {
        "id": "XnD_JFtWFZCE"
      }
    },
    {
      "cell_type": "markdown",
      "source": [
        "**Q.18. What is multiple inheritance in Python?**\n",
        "\n",
        "  => A class can inherit from multiple parent classes.\n",
        "\n"
      ],
      "metadata": {
        "id": "FU8hy5KqG4uI"
      }
    },
    {
      "cell_type": "code",
      "source": [
        "class A: pass\n",
        "class B: pass\n",
        "class C(A, B): pass\n"
      ],
      "metadata": {
        "id": "QZaVd6PJHAo3"
      },
      "execution_count": null,
      "outputs": []
    },
    {
      "cell_type": "markdown",
      "source": [
        "**Q.19. Explain the purpose of __str__ and __repr__ methods in Python.**\n",
        "\n",
        "  =>\n",
        "  \n",
        "   __str__() provides a user-friendly string representation.\n",
        "   \n",
        "   __repr__() is used for debugging and should return a valid Python expression."
      ],
      "metadata": {
        "id": "C7IWCH7VHEiF"
      }
    },
    {
      "cell_type": "markdown",
      "source": [
        "**Q.20. What is the significance of the super() function in Python?**\n",
        "\n",
        "  => super() allows calling a parent class method inside a child class."
      ],
      "metadata": {
        "id": "LZBiB0GGHWjN"
      }
    },
    {
      "cell_type": "code",
      "source": [
        "class Parent:\n",
        "    def show(self):\n",
        "        print(\"Parent\")\n",
        "\n",
        "class Child(Parent):\n",
        "    def show(self):\n",
        "        super().show()  # Calls Parent's show method\n"
      ],
      "metadata": {
        "id": "lmW99UQvHckn"
      },
      "execution_count": null,
      "outputs": []
    },
    {
      "cell_type": "markdown",
      "source": [
        "**Q.21. What is the significance of the __del__ method in Python?**\n",
        "\n",
        "  => The __del__() method is called when an object is deleted (garbage collection)."
      ],
      "metadata": {
        "id": "Mcioekt9HgVF"
      }
    },
    {
      "cell_type": "code",
      "source": [
        "class Example:\n",
        "    def __del__(self):\n",
        "        print(\"Object deleted\")\n"
      ],
      "metadata": {
        "id": "MuPyzE4-HnpG"
      },
      "execution_count": null,
      "outputs": []
    },
    {
      "cell_type": "markdown",
      "source": [
        "**Q.22. What is the difference between @staticmethod and @classmethod in Python?**\n",
        "  \n",
        "  =>\n",
        "  \n",
        "  **@staticmethod:** Does not take self or cls, behaves like a normal function.\n",
        "\n",
        "  **@classmethod:** Takes cls as a parameter and works with the class."
      ],
      "metadata": {
        "id": "yVQfq-_SHq1d"
      }
    },
    {
      "cell_type": "markdown",
      "source": [
        "**Q.23. How does polymorphism work in Python with inheritance?**\n",
        "\n",
        "  => A subclass can override a parent method while maintaining the same method signature."
      ],
      "metadata": {
        "id": "eoAARgy4H5tl"
      }
    },
    {
      "cell_type": "code",
      "source": [
        "class Animal:\n",
        "    def sound(self):\n",
        "        return \"Some sound\"\n",
        "\n",
        "class Dog(Animal):\n",
        "    def sound(self):\n",
        "        return \"Bark\"\n"
      ],
      "metadata": {
        "id": "vtSHp3qdH_wV"
      },
      "execution_count": null,
      "outputs": []
    },
    {
      "cell_type": "markdown",
      "source": [
        "**Q.24. What is method chaining in Python OOP?**\n",
        "\n",
        "  => Method chaining allows multiple methods to be called on the same object sequentially."
      ],
      "metadata": {
        "id": "4yDzm09EIB5G"
      }
    },
    {
      "cell_type": "code",
      "source": [
        "class Example:\n",
        "    def __init__(self, value):\n",
        "        self.value = value\n",
        "\n",
        "    def increment(self):\n",
        "        self.value += 1\n",
        "        return self\n",
        "\n",
        "    def double(self):\n",
        "        self.value *= 2\n",
        "        return self\n",
        "\n",
        "obj = Example(2).increment().double()  # Output: 6\n"
      ],
      "metadata": {
        "id": "s9eZxgDNI7sl"
      },
      "execution_count": null,
      "outputs": []
    },
    {
      "cell_type": "markdown",
      "source": [
        "**Q.25. What is the purpose of the __call__ method in Python?**\n",
        "\n",
        "  => __call__() makes an instance callable like a function."
      ],
      "metadata": {
        "id": "4bGw-RsyJAAV"
      }
    },
    {
      "cell_type": "code",
      "source": [
        "class Example:\n",
        "    def __call__(self):\n",
        "        print(\"Called!\")\n",
        "\n",
        "obj = Example()\n",
        "obj()  # Output: Called!\n"
      ],
      "metadata": {
        "colab": {
          "base_uri": "https://localhost:8080/"
        },
        "id": "9WLpcD7RJHz9",
        "outputId": "40c16d5d-b02d-4e56-9153-b9e169a63a7d"
      },
      "execution_count": null,
      "outputs": [
        {
          "output_type": "stream",
          "name": "stdout",
          "text": [
            "Called!\n"
          ]
        }
      ]
    },
    {
      "cell_type": "markdown",
      "source": [
        "**# Practical Questions #**"
      ],
      "metadata": {
        "id": "imCB-H-NJJkt"
      }
    },
    {
      "cell_type": "markdown",
      "source": [
        "**Q.1. Create a parent class Animal with a method speak() that prints a generic message. Create a child class Dog that overrides the speak() method to print \"Bark!\".**"
      ],
      "metadata": {
        "id": "GvRP5uOTKXtt"
      }
    },
    {
      "cell_type": "code",
      "source": [
        "class Animal:\n",
        "    def speak(self):\n",
        "        print(\"This animal makes a sound.\")\n",
        "\n",
        "class Dog(Animal):\n",
        "    def speak(self):\n",
        "        print(\"Bark!\")\n",
        "\n",
        "dog = Dog()\n",
        "dog.speak()  # Output: Bark!\n"
      ],
      "metadata": {
        "colab": {
          "base_uri": "https://localhost:8080/"
        },
        "id": "evFRdgJ8Ku4F",
        "outputId": "0d12b84d-33ab-41ae-a05f-cfb06d4b69d3"
      },
      "execution_count": null,
      "outputs": [
        {
          "output_type": "stream",
          "name": "stdout",
          "text": [
            "Bark!\n"
          ]
        }
      ]
    },
    {
      "cell_type": "markdown",
      "source": [
        "**Q.2. Write a program to create an abstract class Shape with a method area(). Derive classes Circle and Rectangle from it and implement the area() method in both.**"
      ],
      "metadata": {
        "id": "0la_LikdKy2U"
      }
    },
    {
      "cell_type": "code",
      "source": [
        "from abc import ABC, abstractmethod\n",
        "\n",
        "class Shape(ABC):\n",
        "    @abstractmethod\n",
        "    def area(self):\n",
        "        pass\n",
        "\n",
        "class Circle(Shape):\n",
        "    def __init__(self, radius):\n",
        "        self.radius = radius\n",
        "\n",
        "    def area(self):\n",
        "        return 3.14 * self.radius * self.radius\n",
        "\n",
        "class Rectangle(Shape):\n",
        "    def __init__(self, length, width):\n",
        "        self.length = length\n",
        "        self.width = width\n",
        "\n",
        "    def area(self):\n",
        "        return self.length * self.width\n",
        "\n",
        "circle = Circle(5)\n",
        "rectangle = Rectangle(4, 6)\n",
        "print(circle.area())  # Output: 78.5\n",
        "print(rectangle.area())  # Output: 24\n"
      ],
      "metadata": {
        "colab": {
          "base_uri": "https://localhost:8080/"
        },
        "id": "ElC4UBGMK2rd",
        "outputId": "fc7bb1f1-5182-4bab-e93c-5d74074bff30"
      },
      "execution_count": null,
      "outputs": [
        {
          "output_type": "stream",
          "name": "stdout",
          "text": [
            "78.5\n",
            "24\n"
          ]
        }
      ]
    },
    {
      "cell_type": "markdown",
      "source": [
        "**Q.3. Implement a multi-level inheritance scenario where a class Vehicle has an attribute type. Derive a class Car and further derive a class ElectricCar that adds a battery attribute.**"
      ],
      "metadata": {
        "id": "4m3JYEthLWO2"
      }
    },
    {
      "cell_type": "code",
      "source": [
        "class Vehicle:\n",
        "    def __init__(self, type):\n",
        "        self.type = type\n",
        "\n",
        "class Car(Vehicle):\n",
        "    def __init__(self, type, brand):\n",
        "        super().__init__(type)\n",
        "        self.brand = brand\n",
        "\n",
        "class ElectricCar(Car):\n",
        "    def __init__(self, type, brand, battery):\n",
        "        super().__init__(type, brand)\n",
        "        self.battery = battery\n",
        "\n",
        "tesla = ElectricCar(\"Sedan\", \"Tesla\", \"100 kWh\")\n",
        "print(tesla.type, tesla.brand, tesla.battery)  # Output: Sedan Tesla 100 kWh\n"
      ],
      "metadata": {
        "colab": {
          "base_uri": "https://localhost:8080/"
        },
        "id": "7CXeKeUkLdEl",
        "outputId": "b4dc23aa-4813-44fa-e691-1654472bc0ad"
      },
      "execution_count": null,
      "outputs": [
        {
          "output_type": "stream",
          "name": "stdout",
          "text": [
            "Sedan Tesla 100 kWh\n"
          ]
        }
      ]
    },
    {
      "cell_type": "markdown",
      "source": [
        "**Q.4. Demonstrate polymorphism by creating a base class Bird with a method fly(). Create two derived classes Sparrow and Penguin that override the fly() method.**"
      ],
      "metadata": {
        "id": "gmo76-DGLf_t"
      }
    },
    {
      "cell_type": "code",
      "source": [
        "class Bird:\n",
        "    def fly(self):\n",
        "        print(\"Some birds can fly.\")\n",
        "\n",
        "class Sparrow(Bird):\n",
        "    def fly(self):\n",
        "        print(\"Sparrow flies high!\")\n",
        "\n",
        "class Penguin(Bird):\n",
        "    def fly(self):\n",
        "        print(\"Penguins cannot fly.\")\n",
        "\n",
        "for bird in [Sparrow(), Penguin()]:\n",
        "    bird.fly()\n"
      ],
      "metadata": {
        "colab": {
          "base_uri": "https://localhost:8080/"
        },
        "id": "rY1TgXEqLklN",
        "outputId": "f0cc95e0-25a3-404a-c6ac-6b1d463be5da"
      },
      "execution_count": null,
      "outputs": [
        {
          "output_type": "stream",
          "name": "stdout",
          "text": [
            "Sparrow flies high!\n",
            "Penguins cannot fly.\n"
          ]
        }
      ]
    },
    {
      "cell_type": "markdown",
      "source": [
        "**Q.5. Write a program to demonstrate encapsulation by creating a class BankAccount with private attributes balance and methods to deposit, withdraw, and check balance.**"
      ],
      "metadata": {
        "id": "RmWcaUt7LnMF"
      }
    },
    {
      "cell_type": "code",
      "source": [
        "class BankAccount:\n",
        "    def __init__(self, balance=0):\n",
        "        self.__balance = balance  # Private attribute\n",
        "\n",
        "    def deposit(self, amount):\n",
        "        self.__balance += amount\n",
        "\n",
        "    def withdraw(self, amount):\n",
        "        if amount <= self.__balance:\n",
        "            self.__balance -= amount\n",
        "        else:\n",
        "            print(\"Insufficient funds\")\n",
        "\n",
        "    def get_balance(self):\n",
        "        return self.__balance\n",
        "\n",
        "acc = BankAccount(1000)\n",
        "acc.deposit(500)\n",
        "acc.withdraw(300)\n",
        "print(acc.get_balance())  # Output: 1200\n"
      ],
      "metadata": {
        "colab": {
          "base_uri": "https://localhost:8080/"
        },
        "id": "YreT0Rk1Lsn1",
        "outputId": "5e79defa-6edc-4e7e-892c-f3d5f14db565"
      },
      "execution_count": null,
      "outputs": [
        {
          "output_type": "stream",
          "name": "stdout",
          "text": [
            "1200\n"
          ]
        }
      ]
    },
    {
      "cell_type": "markdown",
      "source": [
        "**Q.6. Demonstrate runtime polymorphism using a method play() in a base class Instrument. Derive classes Guitar and Piano that implement their own version of play().**"
      ],
      "metadata": {
        "id": "dVdpJoVHMZxE"
      }
    },
    {
      "cell_type": "code",
      "source": [
        "class Instrument:\n",
        "    def play(self):\n",
        "        print(\"Playing an instrument\")\n",
        "\n",
        "class Guitar(Instrument):\n",
        "    def play(self):\n",
        "        print(\"Strumming the guitar\")\n",
        "\n",
        "class Piano(Instrument):\n",
        "    def play(self):\n",
        "        print(\"Playing the piano\")\n",
        "\n",
        "for instr in [Guitar(), Piano()]:\n",
        "    instr.play()\n"
      ],
      "metadata": {
        "colab": {
          "base_uri": "https://localhost:8080/"
        },
        "id": "xNR6OEspMkZd",
        "outputId": "0ad69be8-1788-4a4e-b819-c453e5bea665"
      },
      "execution_count": null,
      "outputs": [
        {
          "output_type": "stream",
          "name": "stdout",
          "text": [
            "Strumming the guitar\n",
            "Playing the piano\n"
          ]
        }
      ]
    },
    {
      "cell_type": "markdown",
      "source": [
        "**Q.7. Create a class MathOperations with a class method add_numbers() to add two numbers and a static method subtract_numbers() to subtract two numbers.**"
      ],
      "metadata": {
        "id": "z13IUVACMqtV"
      }
    },
    {
      "cell_type": "code",
      "source": [
        "class MathOperations:\n",
        "    @classmethod\n",
        "    def add_numbers(cls, a, b):\n",
        "        return a + b\n",
        "\n",
        "    @staticmethod\n",
        "    def subtract_numbers(a, b):\n",
        "        return a - b\n",
        "\n",
        "print(MathOperations.add_numbers(10, 5))  # Output: 15\n",
        "print(MathOperations.subtract_numbers(10, 5))  # Output: 5\n"
      ],
      "metadata": {
        "colab": {
          "base_uri": "https://localhost:8080/"
        },
        "id": "Jzr9odbFM4P0",
        "outputId": "50812582-564f-4fa4-a7c2-81443a1cb85f"
      },
      "execution_count": null,
      "outputs": [
        {
          "output_type": "stream",
          "name": "stdout",
          "text": [
            "15\n",
            "5\n"
          ]
        }
      ]
    },
    {
      "cell_type": "markdown",
      "source": [
        "**Q.8. Implement a class Person with a class method to count the total number of persons created.**"
      ],
      "metadata": {
        "id": "7P1hcZD5M7nF"
      }
    },
    {
      "cell_type": "code",
      "source": [
        "class Person:\n",
        "    count = 0\n",
        "\n",
        "    def __init__(self, name):\n",
        "        self.name = name\n",
        "        Person.count += 1\n",
        "\n",
        "print(Person.count)  # Output: 0\n",
        "p1 = Person(\"Alice\")\n",
        "p2 = Person(\"Bob\")\n",
        "print(Person.count)  # Output: 2\n"
      ],
      "metadata": {
        "colab": {
          "base_uri": "https://localhost:8080/"
        },
        "id": "GLQvRSU2NBuF",
        "outputId": "9bf4d287-ca42-4075-d792-04a217eacecc"
      },
      "execution_count": null,
      "outputs": [
        {
          "output_type": "stream",
          "name": "stdout",
          "text": [
            "0\n",
            "2\n"
          ]
        }
      ]
    },
    {
      "cell_type": "markdown",
      "source": [
        "**Q.9. Write a class Fraction with attributes numerator and denominator. Override the __str__ method to display the fraction as \"numerator/denominator\".**"
      ],
      "metadata": {
        "id": "Tc3YG8zeNHXF"
      }
    },
    {
      "cell_type": "code",
      "source": [
        "class Fraction:\n",
        "    def __init__(self, num, den):\n",
        "        self.num = num\n",
        "        self.den = den\n",
        "\n",
        "    def __str__(self):\n",
        "        return f\"{self.num}/{self.den}\"\n",
        "\n",
        "frac = Fraction(3, 4)\n",
        "print(frac)  # Output: \"3/4\"\n"
      ],
      "metadata": {
        "colab": {
          "base_uri": "https://localhost:8080/"
        },
        "id": "KFS5qmgcNNW8",
        "outputId": "f0ce1d99-9b2c-42a1-fc25-1edfb9f85dc8"
      },
      "execution_count": null,
      "outputs": [
        {
          "output_type": "stream",
          "name": "stdout",
          "text": [
            "3/4\n"
          ]
        }
      ]
    },
    {
      "cell_type": "markdown",
      "source": [
        "**Q.10. Demonstrate operator overloading by creating a class Vector and overriding the + method to add two vectors.**"
      ],
      "metadata": {
        "id": "exjjTGFINg8W"
      }
    },
    {
      "cell_type": "code",
      "source": [
        "class Vector:\n",
        "    def __init__(self, x, y):\n",
        "        self.x = x\n",
        "        self.y = y\n",
        "\n",
        "    def __add__(self, other):\n",
        "        return Vector(self.x + other.x, self.y + other.y)\n",
        "\n",
        "    def __str__(self):\n",
        "        return f\"Vector({self.x}, {self.y})\"\n",
        "\n",
        "v1 = Vector(1, 2)\n",
        "v2 = Vector(3, 4)\n",
        "print(v1 + v2)  # Output: Vector(4, 6)\n"
      ],
      "metadata": {
        "colab": {
          "base_uri": "https://localhost:8080/"
        },
        "id": "b2MkkcC8NnC8",
        "outputId": "20b01a84-3044-4d7c-fc78-324f94439945"
      },
      "execution_count": null,
      "outputs": [
        {
          "output_type": "stream",
          "name": "stdout",
          "text": [
            "Vector(4, 6)\n"
          ]
        }
      ]
    },
    {
      "cell_type": "markdown",
      "source": [
        "**Q.11. Create a class Person with attributes name and age. Add a method greet() that prints \"Hello, my name is (name) and I am (age) years old.\"**"
      ],
      "metadata": {
        "id": "LvrgWB4UNrvM"
      }
    },
    {
      "cell_type": "code",
      "source": [
        "class Person:\n",
        "    def __init__(self, name, age):\n",
        "        self.name = name\n",
        "        self.age = age\n",
        "\n",
        "    def greet(self):\n",
        "        print(f\"Hello, my name is {self.name} and I am {self.age} years old.\")\n",
        "\n",
        "p = Person(\"John\", 25)\n",
        "p.greet()  # Output: \"Hello, my name is John and I am 25 years old.\"\n"
      ],
      "metadata": {
        "colab": {
          "base_uri": "https://localhost:8080/"
        },
        "id": "_xjn2ORINwGV",
        "outputId": "e257b1e9-7e8b-49bc-cd26-5f88d04fa8b9"
      },
      "execution_count": null,
      "outputs": [
        {
          "output_type": "stream",
          "name": "stdout",
          "text": [
            "Hello, my name is John and I am 25 years old.\n"
          ]
        }
      ]
    },
    {
      "cell_type": "markdown",
      "source": [
        "**Q.12. Implement a class Student with attributes name and grades. Create a method average_grade() to compute the average of the grades.**"
      ],
      "metadata": {
        "id": "K5dLDW4OOQ0d"
      }
    },
    {
      "cell_type": "code",
      "source": [
        "class Student:\n",
        "    def __init__(self, name, grades):\n",
        "        self.name = name\n",
        "        self.grades = grades\n",
        "\n",
        "    def average_grade(self):\n",
        "        return sum(self.grades) / len(self.grades)\n",
        "\n",
        "s = Student(\"Ali\", [85, 90, 78])\n",
        "print(s.average_grade())  # Output: 84.33\n"
      ],
      "metadata": {
        "colab": {
          "base_uri": "https://localhost:8080/"
        },
        "id": "2J2u6DOTOVk8",
        "outputId": "bd9e4527-4f57-4d86-accb-3b9b1f3faec9"
      },
      "execution_count": null,
      "outputs": [
        {
          "output_type": "stream",
          "name": "stdout",
          "text": [
            "84.33333333333333\n"
          ]
        }
      ]
    },
    {
      "cell_type": "markdown",
      "source": [
        "**Q.13. Create a class Rectangle with methods set_dimensions() to set the dimensions and area() to calculate the area.**"
      ],
      "metadata": {
        "id": "nP9wS7qROb3M"
      }
    },
    {
      "cell_type": "code",
      "source": [
        "class Rectangle:\n",
        "    def __init__(self):\n",
        "        self.length = 0\n",
        "        self.width = 0\n",
        "\n",
        "    def set_dimensions(self, length, width):\n",
        "        self.length = length\n",
        "        self.width = width\n",
        "\n",
        "    def area(self):\n",
        "        return self.length * self.width\n",
        "\n",
        "r = Rectangle()\n",
        "r.set_dimensions(5, 4)\n",
        "print(r.area())  # Output: 20\n"
      ],
      "metadata": {
        "colab": {
          "base_uri": "https://localhost:8080/"
        },
        "id": "7PTHi5RyOgYN",
        "outputId": "15f4c0f6-645c-4ee6-db8a-d2212665695b"
      },
      "execution_count": null,
      "outputs": [
        {
          "output_type": "stream",
          "name": "stdout",
          "text": [
            "20\n"
          ]
        }
      ]
    },
    {
      "cell_type": "markdown",
      "source": [
        "**Q.14. Create a class Employee with a method calculate_salary() that computes the salary based on hours worked and hourly rate. Create a derived class Manager that adds a bonus to the salary.**"
      ],
      "metadata": {
        "id": "3nagR_yDOrbs"
      }
    },
    {
      "cell_type": "code",
      "source": [
        "class Employee:\n",
        "    def __init__(self, hours, rate):\n",
        "        self.hours = hours\n",
        "        self.rate = rate\n",
        "\n",
        "    def calculate_salary(self):\n",
        "        return self.hours * self.rate\n",
        "\n",
        "class Manager(Employee):\n",
        "    def __init__(self, hours, rate, bonus):\n",
        "        super().__init__(hours, rate)\n",
        "        self.bonus = bonus\n",
        "\n",
        "    def calculate_salary(self):\n",
        "        return super().calculate_salary() + self.bonus\n",
        "\n",
        "m = Manager(40, 50, 500)\n",
        "print(m.calculate_salary())  # Output: 2500\n"
      ],
      "metadata": {
        "colab": {
          "base_uri": "https://localhost:8080/"
        },
        "id": "mHzBpVmnOuN_",
        "outputId": "eafa0c7d-5a2d-45e4-f510-4c804e935de2"
      },
      "execution_count": null,
      "outputs": [
        {
          "output_type": "stream",
          "name": "stdout",
          "text": [
            "2500\n"
          ]
        }
      ]
    },
    {
      "cell_type": "markdown",
      "source": [
        "**Q.15. Create a class Product with attributes name, price, and quantity. Implement a method total_price() that calculates the total price of the product.**"
      ],
      "metadata": {
        "id": "nXkbQ1wZOyMc"
      }
    },
    {
      "cell_type": "code",
      "source": [
        "class Product:\n",
        "    def __init__(self, name, price, quantity):\n",
        "        self.name = name\n",
        "        self.price = price\n",
        "        self.quantity = quantity\n",
        "\n",
        "    def total_price(self):\n",
        "        return self.price * self.quantity\n",
        "\n",
        "p = Product(\"Laptop\", 1000, 3)\n",
        "print(p.total_price())  # Output: 3000\n"
      ],
      "metadata": {
        "colab": {
          "base_uri": "https://localhost:8080/"
        },
        "id": "YU3fCLC5O1MM",
        "outputId": "3b1336d8-b163-42d0-8907-87bc88504150"
      },
      "execution_count": null,
      "outputs": [
        {
          "output_type": "stream",
          "name": "stdout",
          "text": [
            "3000\n"
          ]
        }
      ]
    },
    {
      "cell_type": "markdown",
      "source": [
        "**Q.16. Create a class Animal with an abstract method sound(). Create two derived classes Cow and Sheep that implement the sound() method.**"
      ],
      "metadata": {
        "id": "U4FdG1YaO5wk"
      }
    },
    {
      "cell_type": "code",
      "source": [
        "from abc import ABC, abstractmethod\n",
        "\n",
        "class Animal(ABC):\n",
        "    @abstractmethod\n",
        "    def sound(self):\n",
        "        pass\n",
        "\n",
        "class Cow(Animal):\n",
        "    def sound(self):\n",
        "        return \"Moo!\"\n",
        "\n",
        "class Sheep(Animal):\n",
        "    def sound(self):\n",
        "        return \"Baa!\"\n",
        "\n",
        "cow = Cow()\n",
        "sheep = Sheep()\n",
        "print(cow.sound())  # Output: Moo!\n",
        "print(sheep.sound())  # Output: Baa!\n"
      ],
      "metadata": {
        "colab": {
          "base_uri": "https://localhost:8080/"
        },
        "id": "gxlobR_7O9d8",
        "outputId": "3ffdcbb9-9d87-4de8-a5b8-2b35dcf6c5eb"
      },
      "execution_count": null,
      "outputs": [
        {
          "output_type": "stream",
          "name": "stdout",
          "text": [
            "Moo!\n",
            "Baa!\n"
          ]
        }
      ]
    },
    {
      "cell_type": "markdown",
      "source": [
        "**Q.17. Create a class Book with attributes title, author, and year_published. Add a method get_book_info() that returns a formatted string with the book's details.**"
      ],
      "metadata": {
        "id": "ocqXq4z2PK2d"
      }
    },
    {
      "cell_type": "code",
      "source": [
        "class Book:\n",
        "    def __init__(self, title, author, year_published):\n",
        "        self.title = title\n",
        "        self.author = author\n",
        "        self.year_published = year_published\n",
        "\n",
        "    def get_book_info(self):\n",
        "        return f\"'{self.title}' by {self.author}, published in {self.year_published}.\"\n",
        "\n",
        "b = Book(\"1984\", \"George Orwell\", 1949)\n",
        "print(b.get_book_info())  # Output: '1984' by George Orwell, published in 1949.\n"
      ],
      "metadata": {
        "colab": {
          "base_uri": "https://localhost:8080/"
        },
        "id": "6AtXVtl8PRvM",
        "outputId": "a3e8a94a-4cad-49e2-db41-2f3cf3b9554b"
      },
      "execution_count": null,
      "outputs": [
        {
          "output_type": "stream",
          "name": "stdout",
          "text": [
            "'1984' by George Orwell, published in 1949.\n"
          ]
        }
      ]
    },
    {
      "cell_type": "markdown",
      "source": [
        "**18. Create a class House with attributes address and price. Create a derived class Mansion that adds an attribute number_of_rooms.**"
      ],
      "metadata": {
        "id": "08QmJbjZPXBF"
      }
    },
    {
      "cell_type": "code",
      "source": [
        "class House:\n",
        "    def __init__(self, address, price):\n",
        "        self.address = address\n",
        "        self.price = price\n",
        "\n",
        "class Mansion(House):\n",
        "    def __init__(self, address, price, number_of_rooms):\n",
        "        super().__init__(address, price)\n",
        "        self.number_of_rooms = number_of_rooms\n",
        "\n",
        "m = Mansion(\"123 Street\", 5000000, 10)\n",
        "print(m.address, m.price, m.number_of_rooms)  # Output: 123 Street 5000000 10\n"
      ],
      "metadata": {
        "id": "_cFF9eYOPcm9",
        "outputId": "3f6b9972-e222-418a-d5f5-add9cb90bb83",
        "colab": {
          "base_uri": "https://localhost:8080/"
        }
      },
      "execution_count": null,
      "outputs": [
        {
          "output_type": "stream",
          "name": "stdout",
          "text": [
            "123 Street 5000000 10\n"
          ]
        }
      ]
    }
  ]
}